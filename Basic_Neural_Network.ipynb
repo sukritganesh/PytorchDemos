{
  "nbformat": 4,
  "nbformat_minor": 0,
  "metadata": {
    "colab": {
      "name": "Basic Neural Network.ipynb",
      "provenance": [],
      "collapsed_sections": [],
      "authorship_tag": "ABX9TyOOIZ8S3dfpV+YeY7TSvn67",
      "include_colab_link": true
    },
    "kernelspec": {
      "name": "python3",
      "display_name": "Python 3"
    }
  },
  "cells": [
    {
      "cell_type": "markdown",
      "metadata": {
        "id": "view-in-github",
        "colab_type": "text"
      },
      "source": [
        "<a href=\"https://colab.research.google.com/github/sukritganesh/PytorchDemos/blob/main/Basic_Neural_Network.ipynb\" target=\"_parent\"><img src=\"https://colab.research.google.com/assets/colab-badge.svg\" alt=\"Open In Colab\"/></a>"
      ]
    },
    {
      "cell_type": "code",
      "metadata": {
        "id": "JuH7rk5vApTE"
      },
      "source": [
        "import torch\n",
        "import torch.nn as nn\n",
        "import numpy as np\n",
        "import matplotlib.pyplot as plt\n",
        "from sklearn import datasets"
      ],
      "execution_count": null,
      "outputs": []
    },
    {
      "cell_type": "markdown",
      "metadata": {
        "id": "0TjwdA8FDLUo"
      },
      "source": [
        "# Creating and Visualizing The Dataset"
      ]
    },
    {
      "cell_type": "code",
      "metadata": {
        "id": "zboElduJA_VK"
      },
      "source": [
        "n_pts = 500\n",
        "X, y = datasets.make_circles(n_samples=n_pts, random_state=123, noise=0.1, factor=0.2)\n",
        "x_data = torch.Tensor(X)\n",
        "y_data = torch.Tensor(y).reshape((n_pts, 1))"
      ],
      "execution_count": null,
      "outputs": []
    },
    {
      "cell_type": "code",
      "metadata": {
        "id": "MBzKhEUTCZ8V"
      },
      "source": [
        "def scatter_plot():\n",
        "  plt.scatter(X[y==0, 0], X[y==0, 1])\n",
        "  plt.scatter(X[y==1, 0], X[y==1, 1])"
      ],
      "execution_count": null,
      "outputs": []
    },
    {
      "cell_type": "code",
      "metadata": {
        "id": "a4jrh4vZOKPy",
        "outputId": "95279fec-ffa7-4f97-d8eb-ddabef0f2c73",
        "colab": {
          "base_uri": "https://localhost:8080/",
          "height": 265
        }
      },
      "source": [
        "scatter_plot()"
      ],
      "execution_count": null,
      "outputs": [
        {
          "output_type": "display_data",
          "data": {
            "image/png": "[encoded data removed]",
            "text/plain": [
              "<Figure size 432x288 with 1 Axes>"
            ]
          },
          "metadata": {
            "tags": [],
            "needs_background": "light"
          }
        }
      ]
    },
    {
      "cell_type": "markdown",
      "metadata": {
        "id": "7notuTvzK6RA"
      },
      "source": [
        "# The Model"
      ]
    },
    {
      "cell_type": "markdown",
      "metadata": {
        "id": "uLnW74JBQ68U"
      },
      "source": [
        "The model class."
      ]
    },
    {
      "cell_type": "code",
      "metadata": {
        "id": "3LH3SxToK9YZ"
      },
      "source": [
        "class Model(nn.Module):\n",
        "  def __init__(self, input_size=2, hidden1_size=5, output_size=1):\n",
        "    super().__init__()\n",
        "    self.linear1 = nn.Linear(input_size, hidden1_size)\n",
        "    self.linear2 = nn.Linear(hidden1_size, output_size)\n",
        "\n",
        "  def forward(self, x):\n",
        "    out = self.linear1(x)\n",
        "    out = torch.sigmoid(out)\n",
        "    out = self.linear2(out)\n",
        "    out = torch.sigmoid(out)\n",
        "    return out\n",
        "\n",
        "  def predict(self, x):\n",
        "    pred = self.forward(x)\n",
        "    if (pred >= 0.5):\n",
        "      return 1\n",
        "    else:\n",
        "      return 0"
      ],
      "execution_count": null,
      "outputs": []
    },
    {
      "cell_type": "markdown",
      "metadata": {
        "id": "ToNe9k-HRCtl"
      },
      "source": [
        "Creating the model, criterion and optimizer."
      ]
    },
    {
      "cell_type": "code",
      "metadata": {
        "id": "hsXb0moqLqv9",
        "outputId": "3514f3c9-307a-4fbd-dd08-354db33a5776",
        "colab": {
          "base_uri": "https://localhost:8080/",
          "height": 210
        }
      },
      "source": [
        "# set manual seed for replication of initial weights\n",
        "torch.manual_seed(2)\n",
        "\n",
        "model = Model()\n",
        "# Cross Entropy Loss\n",
        "criterion = nn.BCELoss()\n",
        "# Adam optimizer\n",
        "optimizer = torch.optim.Adam(model.parameters(), lr=0.1)\n",
        "\n",
        "print('Initial parameters:')\n",
        "print(list(model.parameters()))"
      ],
      "execution_count": null,
      "outputs": [
        {
          "output_type": "stream",
          "text": [
            "Initial parameters:\n",
            "[Parameter containing:\n",
            "tensor([[ 0.1622, -0.1683],\n",
            "        [ 0.1939, -0.0361],\n",
            "        [ 0.3021,  0.1683],\n",
            "        [-0.0813, -0.5717],\n",
            "        [ 0.1614, -0.6260]], requires_grad=True), Parameter containing:\n",
            "tensor([ 0.0929,  0.0470, -0.1555,  0.5782,  0.0472], requires_grad=True), Parameter containing:\n",
            "tensor([[ 0.1854,  0.1893, -0.2638, -0.1719,  0.4301]], requires_grad=True), Parameter containing:\n",
            "tensor([-0.4380], requires_grad=True)]\n"
          ],
          "name": "stdout"
        }
      ]
    },
    {
      "cell_type": "markdown",
      "metadata": {
        "id": "5JuXgUYDQnIY"
      },
      "source": [
        "# Training the Neural Network"
      ]
    },
    {
      "cell_type": "code",
      "metadata": {
        "id": "QOYHLzTyQpha",
        "outputId": "e78f4f4b-d3ee-4131-acf0-ca2e56b11f7b",
        "colab": {
          "base_uri": "https://localhost:8080/",
          "height": 190
        }
      },
      "source": [
        "epochs = 1000\n",
        "losses = []\n",
        "\n",
        "# Note: x_data contains data points, y_data contains labels\n",
        "\n",
        "for i in range(epochs):\n",
        "  # Feed data through model\n",
        "  y_pred = model.forward(x_data)\n",
        "  loss = criterion(y_pred, y_data)\n",
        "\n",
        "  # Calculate gradients, step\n",
        "  optimizer.zero_grad()\n",
        "  loss.backward()\n",
        "  optimizer.step()\n",
        "\n",
        "  # Bookkeeping\n",
        "  if (not (i + 1) % 100):\n",
        "    print('Epoch:', i+1, '/', epochs, '| Loss:', loss.item())\n",
        "  losses.append(loss.item())"
      ],
      "execution_count": null,
      "outputs": [
        {
          "output_type": "stream",
          "text": [
            "Epoch: 100 / 1000 | Loss: 0.04700670763850212\n",
            "Epoch: 200 / 1000 | Loss: 0.015103199519217014\n",
            "Epoch: 300 / 1000 | Loss: 0.008849398232996464\n",
            "Epoch: 400 / 1000 | Loss: 0.006160352844744921\n",
            "Epoch: 500 / 1000 | Loss: 0.00428162794560194\n",
            "Epoch: 600 / 1000 | Loss: 0.0032188163604587317\n",
            "Epoch: 700 / 1000 | Loss: 0.0026061818934977055\n",
            "Epoch: 800 / 1000 | Loss: 0.0021816310472786427\n",
            "Epoch: 900 / 1000 | Loss: 0.0018650357378646731\n",
            "Epoch: 1000 / 1000 | Loss: 0.0016183843836188316\n"
          ],
          "name": "stdout"
        }
      ]
    },
    {
      "cell_type": "markdown",
      "metadata": {
        "id": "1MAcW9V9TK6e"
      },
      "source": [
        "Plotting the results."
      ]
    },
    {
      "cell_type": "code",
      "metadata": {
        "id": "OAMI6VtGTCYz",
        "outputId": "9b7f4cb3-0eff-4515-de36-8c1acce76a04",
        "colab": {
          "base_uri": "https://localhost:8080/",
          "height": 296
        }
      },
      "source": [
        "plt.plot(range(epochs), losses)\n",
        "plt.ylabel('Loss')\n",
        "plt.xlabel('Epoch')"
      ],
      "execution_count": null,
      "outputs": [
        {
          "output_type": "execute_result",
          "data": {
            "text/plain": [
              "Text(0.5, 0, 'Epoch')"
            ]
          },
          "metadata": {
            "tags": []
          },
          "execution_count": 115
        },
        {
          "output_type": "display_data",
          "data": {
            "image/png": "[encoded data removed]",
            "text/plain": [
              "<Figure size 432x288 with 1 Axes>"
            ]
          },
          "metadata": {
            "tags": [],
            "needs_background": "light"
          }
        }
      ]
    },
    {
      "cell_type": "markdown",
      "metadata": {
        "id": "DWuIAYT6TTlK"
      },
      "source": [
        "# Testing the Model"
      ]
    },
    {
      "cell_type": "code",
      "metadata": {
        "id": "Rm98Ockhhbgk"
      },
      "source": [
        "def plot_decision_boundary(X, y):\n",
        "  x_span = np.linspace(min(X[:, 0]) - 0.25, max(X[:, 0]) + 0.25)\n",
        "  y_span = np.linspace(min(X[:, 1]) - 0.25, max(X[:, 1]) + 0.25)\n",
        "  xx, yy = np.meshgrid(x_span, y_span) \n",
        "  grid = np.c_[xx.ravel(), yy.ravel()]  # flatten, create grid\n",
        "  grid = torch.Tensor(grid)             # convert to tensor\n",
        "  pred_func = model.forward(grid)       # run points in grid through model\n",
        "  z = pred_func.view(xx.shape).detach().numpy()\n",
        "  plt.contourf(xx, yy, z)"
      ],
      "execution_count": null,
      "outputs": []
    },
    {
      "cell_type": "code",
      "metadata": {
        "id": "LsY6JcwRhgXr",
        "outputId": "077eec12-44ba-48b0-cd16-d83ea49ba5c9",
        "colab": {
          "base_uri": "https://localhost:8080/",
          "height": 265
        }
      },
      "source": [
        "plot_decision_boundary(X, y)\n",
        "scatter_plot()"
      ],
      "execution_count": null,
      "outputs": [
        {
          "output_type": "display_data",
          "data": {
            "image/png": "[encoded data removed]",
            "text/plain": [
              "<Figure size 432x288 with 1 Axes>"
            ]
          },
          "metadata": {
            "tags": [],
            "needs_background": "light"
          }
        }
      ]
    },
    {
      "cell_type": "markdown",
      "metadata": {
        "id": "Z5qikJGylPgP"
      },
      "source": [
        "Testing Individual Points"
      ]
    },
    {
      "cell_type": "code",
      "metadata": {
        "id": "u7M9j_selNTe",
        "outputId": "12bf3455-bc39-4bab-814b-d629ef3e7ef8",
        "colab": {
          "base_uri": "https://localhost:8080/",
          "height": 282
        }
      },
      "source": [
        "x = 0.025\n",
        "y = 0.025\n",
        "point = torch.Tensor([x, y])\n",
        "pred = model.predict(point)\n",
        "plt.plot([x], [y], marker='o', markersize=10, color='red')\n",
        "print('Prediction is', pred)\n",
        "plot_decision_boundary(X, y)"
      ],
      "execution_count": null,
      "outputs": [
        {
          "output_type": "stream",
          "text": [
            "Prediction is 1\n"
          ],
          "name": "stdout"
        },
        {
          "output_type": "display_data",
          "data": {
            "image/png": "[encoded data removed]",
            "text/plain": [
              "<Figure size 432x288 with 1 Axes>"
            ]
          },
          "metadata": {
            "tags": [],
            "needs_background": "light"
          }
        }
      ]
    }
  ]
}