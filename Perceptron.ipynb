{
  "nbformat": 4,
  "nbformat_minor": 0,
  "metadata": {
    "colab": {
      "name": "Perceptron.ipynb",
      "provenance": [],
      "collapsed_sections": [],
      "authorship_tag": "ABX9TyOfkQs3caP5rjTBQYFYuBrB",
      "include_colab_link": true
    },
    "kernelspec": {
      "name": "python3",
      "display_name": "Python 3"
    }
  },
  "cells": [
    {
      "cell_type": "markdown",
      "metadata": {
        "id": "view-in-github",
        "colab_type": "text"
      },
      "source": [
        "<a href=\"https://colab.research.google.com/github/sukritganesh/PytorchDemos/blob/main/Perceptron.ipynb\" target=\"_parent\"><img src=\"https://colab.research.google.com/assets/colab-badge.svg\" alt=\"Open In Colab\"/></a>"
      ]
    },
    {
      "cell_type": "code",
      "metadata": {
        "id": "JuH7rk5vApTE"
      },
      "source": [
        "import torch\n",
        "import torch.nn as nn\n",
        "import numpy as np\n",
        "import matplotlib.pyplot as plt\n",
        "from sklearn import datasets"
      ],
      "execution_count": null,
      "outputs": []
    },
    {
      "cell_type": "markdown",
      "metadata": {
        "id": "0TjwdA8FDLUo"
      },
      "source": [
        "# Creating and Visualizing The Dataset"
      ]
    },
    {
      "cell_type": "code",
      "metadata": {
        "id": "zboElduJA_VK"
      },
      "source": [
        "n_pts = 100\n",
        "centers = [[-0.5, 0.5], [0.5, -0.5]]\n",
        "X, y = datasets.make_blobs(n_samples=n_pts, random_state=123, centers=centers, cluster_std=0.4)\n",
        "x_data = torch.Tensor(X)\n",
        "y_data = torch.Tensor(y).reshape((100, 1))"
      ],
      "execution_count": null,
      "outputs": []
    },
    {
      "cell_type": "code",
      "metadata": {
        "id": "MBzKhEUTCZ8V"
      },
      "source": [
        "def scatter_plot():\n",
        "  plt.scatter(X[y==0, 0], X[y==0, 1])\n",
        "  plt.scatter(X[y==1, 0], X[y==1, 1])"
      ],
      "execution_count": null,
      "outputs": []
    },
    {
      "cell_type": "code",
      "metadata": {
        "id": "a4jrh4vZOKPy",
        "outputId": "eb1901c0-dc33-4841-bd19-9ab5524026c3",
        "colab": {
          "base_uri": "https://localhost:8080/",
          "height": 266
        }
      },
      "source": [
        "scatter_plot()"
      ],
      "execution_count": null,
      "outputs": [
        {
          "output_type": "display_data",
          "data": {
            "image/png": "[encoded data removed]",
            "text/plain": [
              "<Figure size 432x288 with 1 Axes>"
            ]
          },
          "metadata": {
            "tags": [],
            "needs_background": "light"
          }
        }
      ]
    },
    {
      "cell_type": "markdown",
      "metadata": {
        "id": "7notuTvzK6RA"
      },
      "source": [
        "# The Perceptron Model"
      ]
    },
    {
      "cell_type": "markdown",
      "metadata": {
        "id": "uLnW74JBQ68U"
      },
      "source": [
        "A simple perceptron classifier. Contains only one linear layer."
      ]
    },
    {
      "cell_type": "code",
      "metadata": {
        "id": "3LH3SxToK9YZ"
      },
      "source": [
        "class Model(nn.Module):\n",
        "  def __init__(self, input_size=2, output_size=1):\n",
        "    super().__init__()\n",
        "    self.linear = nn.Linear(input_size, output_size)\n",
        "\n",
        "  def forward(self, x):\n",
        "    out = self.linear(x)\n",
        "    out = torch.sigmoid(out)\n",
        "    return out\n",
        "\n",
        "  def predict(self, x):\n",
        "    pred = self.forward(x)\n",
        "    if (pred >= 0.5):\n",
        "      return 1\n",
        "    else:\n",
        "      return 0"
      ],
      "execution_count": null,
      "outputs": []
    },
    {
      "cell_type": "markdown",
      "metadata": {
        "id": "ToNe9k-HRCtl"
      },
      "source": [
        "Creating the model, criterion and optimizer."
      ]
    },
    {
      "cell_type": "code",
      "metadata": {
        "id": "hsXb0moqLqv9",
        "outputId": "b92ddf8b-d443-4e27-bce3-485f4ca2a88f",
        "colab": {
          "base_uri": "https://localhost:8080/",
          "height": 86
        }
      },
      "source": [
        "# set manual seed for replication of initial weights\n",
        "torch.manual_seed(2)\n",
        "\n",
        "model = Model()\n",
        "criterion = nn.BCELoss()\n",
        "# learning rate = 0.01\n",
        "optimizer = torch.optim.SGD(model.parameters(), lr=0.01)\n",
        "\n",
        "print('Initial parameters')\n",
        "print(list(model.parameters()))"
      ],
      "execution_count": null,
      "outputs": [
        {
          "output_type": "stream",
          "text": [
            "Initial parameters\n",
            "[Parameter containing:\n",
            "tensor([[ 0.1622, -0.1683]], requires_grad=True), Parameter containing:\n",
            "tensor([0.1939], requires_grad=True)]\n"
          ],
          "name": "stdout"
        }
      ]
    },
    {
      "cell_type": "markdown",
      "metadata": {
        "id": "ihQXi1h3Q_OU"
      },
      "source": [
        "Retrieving the initial parameters (should be quite arbitrary)."
      ]
    },
    {
      "cell_type": "code",
      "metadata": {
        "id": "npjbUbgIMH4Y",
        "outputId": "f4bc094e-5cc2-45fa-c301-4d52b27aa9e9",
        "colab": {
          "base_uri": "https://localhost:8080/",
          "height": 34
        }
      },
      "source": [
        "[w, b] =model.parameters()\n",
        "w1, w2 = w.view(2)\n",
        "def get_params():\n",
        "  return (w1.item(), w2.item(), b[0].item())\n",
        "print(get_params())"
      ],
      "execution_count": null,
      "outputs": [
        {
          "output_type": "stream",
          "text": [
            "(0.1622033268213272, -0.1682732254266739, 0.1939089596271515)\n"
          ],
          "name": "stdout"
        }
      ]
    },
    {
      "cell_type": "code",
      "metadata": {
        "id": "HbgBwmFUNfJI"
      },
      "source": [
        "def plot_fit(title):\n",
        "  plt.title = title\n",
        "  # 0 = w1x1 + w2x2 + b\n",
        "  w1, w2, b1 = get_params()\n",
        "  x1 = np.array([-2.0, 2.0])\n",
        "  x2 = (w1*x1 + b1) / (-1 * w2)\n",
        "  plt.plot(x1, x2, 'r')\n",
        "  scatter_plot()"
      ],
      "execution_count": null,
      "outputs": []
    },
    {
      "cell_type": "markdown",
      "metadata": {
        "id": "GDbucxgrvmbg"
      },
      "source": [
        "We see that the line defined by the perceptron's initial parameters doesn't classify the data well. We must train the model on the data!"
      ]
    },
    {
      "cell_type": "code",
      "metadata": {
        "id": "UlmAEl8sOR6Y",
        "outputId": "c5c2b051-2d59-43d0-83de-65ead75ec48f",
        "colab": {
          "base_uri": "https://localhost:8080/",
          "height": 265
        }
      },
      "source": [
        "plot_fit('Initial Model')"
      ],
      "execution_count": null,
      "outputs": [
        {
          "output_type": "display_data",
          "data": {
            "image/png": "[encoded data removed]",
            "text/plain": [
              "<Figure size 432x288 with 1 Axes>"
            ]
          },
          "metadata": {
            "tags": [],
            "needs_background": "light"
          }
        }
      ]
    },
    {
      "cell_type": "markdown",
      "metadata": {
        "id": "5JuXgUYDQnIY"
      },
      "source": [
        "# Training the Perceptron"
      ]
    },
    {
      "cell_type": "code",
      "metadata": {
        "id": "QOYHLzTyQpha",
        "outputId": "f782228e-1220-4500-d57f-599b30d5a368",
        "colab": {
          "base_uri": "https://localhost:8080/",
          "height": 883
        }
      },
      "source": [
        "epochs = 5000\n",
        "losses = []\n",
        "\n",
        "# Note: x_data contains data points, y_data contains labels\n",
        "\n",
        "for i in range(epochs):\n",
        "  # Feed data through model\n",
        "  y_pred = model.forward(x_data)\n",
        "  loss = criterion(y_pred, y_data)\n",
        "\n",
        "  # Calculate gradients, step\n",
        "  optimizer.zero_grad()\n",
        "  loss.backward()\n",
        "  optimizer.step()\n",
        "\n",
        "  # Bookkeeping\n",
        "  if (not (i + 1) % 100):\n",
        "    print('Epoch:', i+1, '/', epochs, '| Loss:', loss.item())\n",
        "  losses.append(loss.item())"
      ],
      "execution_count": null,
      "outputs": [
        {
          "output_type": "stream",
          "text": [
            "Epoch: 100 / 5000 | Loss: 0.5297437906265259\n",
            "Epoch: 200 / 5000 | Loss: 0.46398743987083435\n",
            "Epoch: 300 / 5000 | Loss: 0.4145326316356659\n",
            "Epoch: 400 / 5000 | Loss: 0.3762793242931366\n",
            "Epoch: 500 / 5000 | Loss: 0.34591221809387207\n",
            "Epoch: 600 / 5000 | Loss: 0.32124829292297363\n",
            "Epoch: 700 / 5000 | Loss: 0.3008173108100891\n",
            "Epoch: 800 / 5000 | Loss: 0.28360411524772644\n",
            "Epoch: 900 / 5000 | Loss: 0.26888954639434814\n",
            "Epoch: 1000 / 5000 | Loss: 0.2561521828174591\n",
            "Epoch: 1100 / 5000 | Loss: 0.2450057566165924\n",
            "Epoch: 1200 / 5000 | Loss: 0.23515863716602325\n",
            "Epoch: 1300 / 5000 | Loss: 0.22638636827468872\n",
            "Epoch: 1400 / 5000 | Loss: 0.21851404011249542\n",
            "Epoch: 1500 / 5000 | Loss: 0.2114028036594391\n",
            "Epoch: 1600 / 5000 | Loss: 0.20494142174720764\n",
            "Epoch: 1700 / 5000 | Loss: 0.19903963804244995\n",
            "Epoch: 1800 / 5000 | Loss: 0.19362324476242065\n",
            "Epoch: 1900 / 5000 | Loss: 0.18863090872764587\n",
            "Epoch: 2000 / 5000 | Loss: 0.18401144444942474\n",
            "Epoch: 2100 / 5000 | Loss: 0.17972171306610107\n",
            "Epoch: 2200 / 5000 | Loss: 0.17572511732578278\n",
            "Epoch: 2300 / 5000 | Loss: 0.17199037969112396\n",
            "Epoch: 2400 / 5000 | Loss: 0.16849061846733093\n",
            "Epoch: 2500 / 5000 | Loss: 0.16520263254642487\n",
            "Epoch: 2600 / 5000 | Loss: 0.16210618615150452\n",
            "Epoch: 2700 / 5000 | Loss: 0.15918366611003876\n",
            "Epoch: 2800 / 5000 | Loss: 0.156419575214386\n",
            "Epoch: 2900 / 5000 | Loss: 0.153800368309021\n",
            "Epoch: 3000 / 5000 | Loss: 0.15131382644176483\n",
            "Epoch: 3100 / 5000 | Loss: 0.1489492952823639\n",
            "Epoch: 3200 / 5000 | Loss: 0.14669717848300934\n",
            "Epoch: 3300 / 5000 | Loss: 0.1445489525794983\n",
            "Epoch: 3400 / 5000 | Loss: 0.14249688386917114\n",
            "Epoch: 3500 / 5000 | Loss: 0.14053407311439514\n",
            "Epoch: 3600 / 5000 | Loss: 0.13865424692630768\n",
            "Epoch: 3700 / 5000 | Loss: 0.13685177266597748\n",
            "Epoch: 3800 / 5000 | Loss: 0.1351213902235031\n",
            "Epoch: 3900 / 5000 | Loss: 0.13345859944820404\n",
            "Epoch: 4000 / 5000 | Loss: 0.13185900449752808\n",
            "Epoch: 4100 / 5000 | Loss: 0.130318745970726\n",
            "Epoch: 4200 / 5000 | Loss: 0.12883418798446655\n",
            "Epoch: 4300 / 5000 | Loss: 0.1274021565914154\n",
            "Epoch: 4400 / 5000 | Loss: 0.12601955235004425\n",
            "Epoch: 4500 / 5000 | Loss: 0.12468361109495163\n",
            "Epoch: 4600 / 5000 | Loss: 0.12339175492525101\n",
            "Epoch: 4700 / 5000 | Loss: 0.12214156985282898\n",
            "Epoch: 4800 / 5000 | Loss: 0.12093091011047363\n",
            "Epoch: 4900 / 5000 | Loss: 0.11975769698619843\n",
            "Epoch: 5000 / 5000 | Loss: 0.11862004548311234\n"
          ],
          "name": "stdout"
        }
      ]
    },
    {
      "cell_type": "markdown",
      "metadata": {
        "id": "1MAcW9V9TK6e"
      },
      "source": [
        "Plotting the results. Loss decreases as number of epochs increases."
      ]
    },
    {
      "cell_type": "code",
      "metadata": {
        "id": "OAMI6VtGTCYz",
        "outputId": "64ac29f8-423a-4b67-d422-9c6bd7d8e3f3",
        "colab": {
          "base_uri": "https://localhost:8080/",
          "height": 296
        }
      },
      "source": [
        "plt.plot(range(epochs), losses)\n",
        "plt.ylabel('Loss')\n",
        "plt.xlabel('Epoch')"
      ],
      "execution_count": null,
      "outputs": [
        {
          "output_type": "execute_result",
          "data": {
            "text/plain": [
              "Text(0.5, 0, 'Epoch')"
            ]
          },
          "metadata": {
            "tags": []
          },
          "execution_count": 139
        },
        {
          "output_type": "display_data",
          "data": {
            "image/png": "[encoded data removed]",
            "text/plain": [
              "<Figure size 432x288 with 1 Axes>"
            ]
          },
          "metadata": {
            "tags": [],
            "needs_background": "light"
          }
        }
      ]
    },
    {
      "cell_type": "markdown",
      "metadata": {
        "id": "UbTBDsRAv1HF"
      },
      "source": [
        "The trained model classifies the data quite well!"
      ]
    },
    {
      "cell_type": "code",
      "metadata": {
        "id": "0BCzM83ITWx-",
        "outputId": "8daee730-488b-418e-872d-0e9510097aa9",
        "colab": {
          "base_uri": "https://localhost:8080/",
          "height": 265
        }
      },
      "source": [
        "plot_fit('Trained Model')"
      ],
      "execution_count": null,
      "outputs": [
        {
          "output_type": "display_data",
          "data": {
            "image/png": "[encoded data removed]",
            "text/plain": [
              "<Figure size 432x288 with 1 Axes>"
            ]
          },
          "metadata": {
            "tags": [],
            "needs_background": "light"
          }
        }
      ]
    },
    {
      "cell_type": "markdown",
      "metadata": {
        "id": "DWuIAYT6TTlK"
      },
      "source": [
        "# Testing the Model"
      ]
    },
    {
      "cell_type": "markdown",
      "metadata": {
        "id": "dnLmPbjqv5ns"
      },
      "source": [
        "We see that the classifier correctly determines whether the points are in class 1 or 0. The classifier assigns a high probability to points which are actually in class 1 (red and green points), but assigns a low probability to the black point, which is in class 0."
      ]
    },
    {
      "cell_type": "code",
      "metadata": {
        "id": "ohBnVQkKTdvu",
        "outputId": "767318be-c651-4d3c-988c-96ce018bbea9",
        "colab": {
          "base_uri": "https://localhost:8080/",
          "height": 455
        }
      },
      "source": [
        "point1 = torch.Tensor([1.0, -1.0])\n",
        "point2 = torch.Tensor([-1.0, 1.0])\n",
        "point3 = torch.Tensor([0.7, 0.4])\n",
        "\n",
        "plt.plot(point1.numpy()[0], point1.numpy()[1], 'ro')  # High probability class 1\n",
        "plt.plot(point2.numpy()[0], point2.numpy()[1], 'ko')  # Low probability class 1\n",
        "plt.plot(point3.numpy()[0], point3.numpy()[1], 'go')   # High probability class 1\n",
        "\n",
        "print('Probability that given point is in class 1:\\n')\n",
        "\n",
        "print('Red Point Positive Probability = {}'.format(model.forward(point1).item()))\n",
        "print('Black Point Positive Probability = {}'.format(model.forward(point2).item()))\n",
        "print('Green Point Positive Probability = {}'.format(model.forward(point3).item()))\n",
        "\n",
        "print()\n",
        "\n",
        "print('Red point in class {}'.format(model.predict(point1)))\n",
        "print('Black point in class {}'.format(model.predict(point2)))\n",
        "print('Green point in class {}'.format(model.predict(point3)))\n",
        "\n",
        "print('\\nTrained Model:')\n",
        "plot_fit('Trained Model')"
      ],
      "execution_count": null,
      "outputs": [
        {
          "output_type": "stream",
          "text": [
            "Probability that given point is in class 1:\n",
            "\n",
            "Red Point Positive Probability = 0.9963980913162231\n",
            "Black Point Positive Probability = 0.001830710913054645\n",
            "Green Point Positive Probability = 0.6642152070999146\n",
            "\n",
            "Red point in class 1\n",
            "Black point in class 0\n",
            "Green point in class 1\n",
            "\n",
            "Trained Model:\n"
          ],
          "name": "stdout"
        },
        {
          "output_type": "display_data",
          "data": {
            "image/png": "[encoded data removed]",
            "text/plain": [
              "<Figure size 432x288 with 1 Axes>"
            ]
          },
          "metadata": {
            "tags": [],
            "needs_background": "light"
          }
        }
      ]
    }
  ]
}